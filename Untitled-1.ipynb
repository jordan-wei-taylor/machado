{
 "cells": [
  {
   "cell_type": "code",
   "execution_count": 1,
   "metadata": {},
   "outputs": [],
   "source": [
    "import numpy as np\n",
    "\n",
    "def get_grid(grid):\n",
    "    if '\\n' in grid:\n",
    "        return grid\n",
    "    if grid not in grids:\n",
    "        raise Exception()\n",
    "    return grids[grid].strip()\n",
    "\n",
    "MOVES = {0 : (-1, 0),\n",
    "         1 : ( 0, 1),\n",
    "         2 : ()}\n",
    "def move(state, action_id):\n",
    "    if action_id == 0:\n",
    "        return state[0] - 1, state[1]\n",
    "    elif action_id == 1:\n",
    "        return state[0], state[1] + 1\n",
    "    elif action_id == 2:\n",
    "        return state[0] + 1, state[1]\n",
    "    elif action_id == 3:\n",
    "        return state[0], state[1] - 1\n",
    "    raise Exception()\n",
    "\n",
    "class Base():\n",
    "\n",
    "    def __init__(self, *args, params = {}, exceptions = [], **kwargs):\n",
    "        exceptions   = list(exceptions) + ['self', '__class__']\n",
    "        self._params = {}\n",
    "        for k, v in params.items():\n",
    "            if k in exceptions: continue\n",
    "            self._params[k] = v\n",
    "        self.__dict__.update(self._params)\n",
    "        self.__name__ = params['__class__'].__name__\n",
    "        super().__init__(*args, **kwargs)\n",
    "\n",
    "    def __repr__(self):\n",
    "        name   = self.__name__\n",
    "        keys   = list(self._params)\n",
    "        values = [f'\"{value}\"' if isinstance(value, str) else f'array{value.shape}' if isinstance(value, np.ndarray) else value for value in self._params.values()]\n",
    "        params = ', '.join(f'{key} = {value}' for key, value in zip(keys, values))\n",
    "        return f'{name}({params})'\n",
    "\n",
    "class Mapper(Base, dict):\n",
    "\n",
    "    def __init__(self, *args, **kwargs):\n",
    "        super().__init__(*args, params = locals(), exceptions = ['args', 'kwargs'], **kwargs)\n",
    "        update    = {value : key for key, value in self.items()}\n",
    "        self.repr = 'Mapper({' + ', '.join([f'{key} : {value}' for key, value in self.items()]) + '})'\n",
    "        self.update(update)\n",
    "\n",
    "    def __getitem__(self, key):\n",
    "        return super().__getitem__(key)\n",
    "\n",
    "    def __repr__(self):\n",
    "        return self.repr\n",
    "\n",
    "class GridWorld(Base):\n",
    "\n",
    "    def __init__(self, grid : str, start_locations : list, terminal_locations : dict, movement_cost : float = -1., p : float = 1.):\n",
    "        super().__init__(params = locals())\n",
    "        self._grid     = get_grid(grid)\n",
    "        states         = {state : i for i, state in enumerate((i, j) for i, row in enumerate(self._grid.split('\\n')) for j, val in enumerate(row) if val == ' ')}\n",
    "        self._states   = Mapper(states)\n",
    "        self._start    = [self._states[loc] if isinstance(loc, (int, np.int_)) else loc for loc in start_locations]\n",
    "        \n",
    "        self.P = {}\n",
    "        if p == 1:\n",
    "            for state in self._states:\n",
    "                self.P[state] = {}\n",
    "                \n",
    "\n",
    "    @property\n",
    "    def grid(self):\n",
    "        print(self._grid)\n",
    "\n",
    "    def reset(self):\n",
    "        self.loc      = self._start[np.random.choice(len(self._start))]\n",
    "        self.terminal = False\n",
    "        return self.loc\n",
    "\n",
    "    def step(self, action_id : int):\n",
    "        current   = self.loc\n",
    "        terminal  = current in self.terminal_locations\n",
    "        new_state = current if terminal else move(self.loc, action_id)\n",
    "\n",
    "        if new_state in self._states:\n",
    "            self.loc = new_state\n",
    "        r  = self.movement_cost\n",
    "        if new_state != current and new_state in self.terminal_locations:\n",
    "            r += self.terminal_locations[new_state]\n",
    "        return r, self._states[self.loc], terminal, {}\n",
    "\n",
    "    def current_grid(self, mode = 'ascii'):\n",
    "        grid = [[*row] for row in self._grid.split('\\n')]\n",
    "        i, j = self.loc\n",
    "        grid[i][j] = 'A'\n",
    "        print('\\n'.join(''.join(row) for row in grid))\n",
    "        \n",
    "\n",
    "four_rooms = \"\"\"\n",
    "#############\n",
    "#     #     #\n",
    "#     #     #\n",
    "#           #\n",
    "#     #     #\n",
    "#     #     #\n",
    "### ##### ###\n",
    "#     #     #\n",
    "#     #     #\n",
    "#           #\n",
    "#     #     #\n",
    "#     #     #\n",
    "#############\n",
    "\"\"\"\n",
    "\n",
    "grids = dict(four_rooms = four_rooms)\n"
   ]
  },
  {
   "cell_type": "code",
   "execution_count": 93,
   "metadata": {},
   "outputs": [
    {
     "data": {
      "text/plain": [
       "GridWorld(grid = \"four_rooms\", start_locations = array(1,), terminal_locations = {}, movement_cost = -1.0, p = 1.0)"
      ]
     },
     "execution_count": 93,
     "metadata": {},
     "output_type": "execute_result"
    }
   ],
   "source": [
    "gridworld = GridWorld('four_rooms', np.array([0]), {})\n",
    "gridworld"
   ]
  },
  {
   "cell_type": "code",
   "execution_count": 94,
   "metadata": {},
   "outputs": [
    {
     "data": {
      "text/plain": [
       "(1, 1)"
      ]
     },
     "execution_count": 94,
     "metadata": {},
     "output_type": "execute_result"
    }
   ],
   "source": [
    "gridworld.reset()"
   ]
  },
  {
   "cell_type": "code",
   "execution_count": 95,
   "metadata": {},
   "outputs": [
    {
     "name": "stdout",
     "output_type": "stream",
     "text": [
      "#############\n",
      "#A    #     #\n",
      "#     #     #\n",
      "#           #\n",
      "#     #     #\n",
      "#     #     #\n",
      "### ##### ###\n",
      "#     #     #\n",
      "#     #     #\n",
      "#           #\n",
      "#     #     #\n",
      "#     #     #\n",
      "#############\n"
     ]
    }
   ],
   "source": [
    "gridworld.current_grid()"
   ]
  },
  {
   "cell_type": "code",
   "execution_count": 105,
   "metadata": {},
   "outputs": [
    {
     "data": {
      "text/plain": [
       "(-1.0, (1, 1), False, {})"
      ]
     },
     "execution_count": 105,
     "metadata": {},
     "output_type": "execute_result"
    }
   ],
   "source": [
    "gridworld.step(0)"
   ]
  },
  {
   "cell_type": "code",
   "execution_count": 79,
   "metadata": {},
   "outputs": [
    {
     "data": {
      "text/plain": [
       "['__class__',\n",
       " '__delattr__',\n",
       " '__dict__',\n",
       " '__dir__',\n",
       " '__doc__',\n",
       " '__eq__',\n",
       " '__format__',\n",
       " '__ge__',\n",
       " '__getattribute__',\n",
       " '__gt__',\n",
       " '__hash__',\n",
       " '__init__',\n",
       " '__init_subclass__',\n",
       " '__le__',\n",
       " '__lt__',\n",
       " '__module__',\n",
       " '__name__',\n",
       " '__ne__',\n",
       " '__new__',\n",
       " '__reduce__',\n",
       " '__reduce_ex__',\n",
       " '__repr__',\n",
       " '__setattr__',\n",
       " '__sizeof__',\n",
       " '__str__',\n",
       " '__subclasshook__',\n",
       " '__weakref__',\n",
       " '_grid',\n",
       " '_params',\n",
       " '_start',\n",
       " '_states',\n",
       " '_terminal',\n",
       " 'current_grid',\n",
       " 'grid',\n",
       " 'loc',\n",
       " 'reset',\n",
       " 'step',\n",
       " 'terminal']"
      ]
     },
     "execution_count": 79,
     "metadata": {},
     "output_type": "execute_result"
    }
   ],
   "source": [
    "dir(gridworld)"
   ]
  }
 ],
 "metadata": {
  "interpreter": {
   "hash": "3f998c2241ec08fa221a56ed4ef96960ad3f571b87ff18f1f4deeaad7bfd8a13"
  },
  "kernelspec": {
   "display_name": "Python 3.8.10 64-bit ('env': venv)",
   "language": "python",
   "name": "python3"
  },
  "language_info": {
   "codemirror_mode": {
    "name": "ipython",
    "version": 3
   },
   "file_extension": ".py",
   "mimetype": "text/x-python",
   "name": "python",
   "nbconvert_exporter": "python",
   "pygments_lexer": "ipython3",
   "version": "3.8.10"
  },
  "orig_nbformat": 4
 },
 "nbformat": 4,
 "nbformat_minor": 2
}
